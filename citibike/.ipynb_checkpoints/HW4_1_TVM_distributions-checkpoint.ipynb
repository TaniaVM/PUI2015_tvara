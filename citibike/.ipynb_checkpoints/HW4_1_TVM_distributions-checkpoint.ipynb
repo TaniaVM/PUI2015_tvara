{
 "cells": [
  {
   "cell_type": "markdown",
   "metadata": {
    "collapsed": true
   },
   "source": [
    "#Assignment 1:\n",
    "    test if the distribution of ages is the same for \n",
    "    \n",
    "    1) male and female riders\n",
    "    \n",
    "    2) day and night riders\n",
    "    \n",
    "    use 3 tests: KS, Pearson's, Spearman's"
   ]
  },
  {
   "cell_type": "markdown",
   "metadata": {},
   "source": [
    "Imports and setups"
   ]
  },
  {
   "cell_type": "code",
   "execution_count": 1,
   "metadata": {
    "collapsed": false,
    "scrolled": true
   },
   "outputs": [
    {
     "name": "stdout",
     "output_type": "stream",
     "text": [
      "Populating the interactive namespace from numpy and matplotlib\n"
     ]
    }
   ],
   "source": [
    "import pylab as pl\n",
    "import pandas as pd\n",
    "import numpy as np\n",
    "%pylab inline\n",
    "import os\n",
    "import seaborn as sns\n"
   ]
  },
  {
   "cell_type": "markdown",
   "metadata": {},
   "source": [
    "I am reading in data from August 2013"
   ]
  },
  {
   "cell_type": "code",
   "execution_count": 2,
   "metadata": {
    "collapsed": false,
    "scrolled": false
   },
   "outputs": [
    {
     "name": "stdout",
     "output_type": "stream",
     "text": [
      "Index([u'tripduration', u'starttime', u'stoptime', u'start station id',\n",
      "       u'start station name', u'start station latitude',\n",
      "       u'start station longitude', u'end station id', u'end station name',\n",
      "       u'end station latitude', u'end station longitude', u'bikeid',\n",
      "       u'usertype', u'birth year', u'gender'],\n",
      "      dtype='object')\n"
     ]
    }
   ],
   "source": [
    "df=pd.read_csv('2013-08 - Citi Bike trip data.csv')\n",
    "print df.columns"
   ]
  },
  {
   "cell_type": "markdown",
   "metadata": {},
   "source": [
    "#BY GENDER\n",
    "splitting data by gender and extracting the age happens in the cell below"
   ]
  },
  {
   "cell_type": "code",
   "execution_count": 3,
   "metadata": {
    "collapsed": false
   },
   "outputs": [
    {
     "data": {
      "text/html": [
       "<div>\n",
       "<table border=\"1\" class=\"dataframe\">\n",
       "  <thead>\n",
       "    <tr style=\"text-align: right;\">\n",
       "      <th></th>\n",
       "      <th>tripduration</th>\n",
       "      <th>starttime</th>\n",
       "      <th>stoptime</th>\n",
       "      <th>start station id</th>\n",
       "      <th>start station name</th>\n",
       "      <th>start station latitude</th>\n",
       "      <th>start station longitude</th>\n",
       "      <th>end station id</th>\n",
       "      <th>end station name</th>\n",
       "      <th>end station latitude</th>\n",
       "      <th>end station longitude</th>\n",
       "      <th>bikeid</th>\n",
       "      <th>usertype</th>\n",
       "      <th>birth year</th>\n",
       "      <th>gender</th>\n",
       "      <th>ageM</th>\n",
       "      <th>ageF</th>\n",
       "    </tr>\n",
       "  </thead>\n",
       "  <tbody>\n",
       "    <tr>\n",
       "      <th>0</th>\n",
       "      <td>664</td>\n",
       "      <td>2013-08-01 00:00:00</td>\n",
       "      <td>2013-08-01 00:11:04</td>\n",
       "      <td>449</td>\n",
       "      <td>W 52 St &amp; 9 Ave</td>\n",
       "      <td>40.764618</td>\n",
       "      <td>-73.987895</td>\n",
       "      <td>479</td>\n",
       "      <td>9 Ave &amp; W 45 St</td>\n",
       "      <td>40.760193</td>\n",
       "      <td>-73.991255</td>\n",
       "      <td>20068</td>\n",
       "      <td>Subscriber</td>\n",
       "      <td>1944</td>\n",
       "      <td>1</td>\n",
       "      <td>71</td>\n",
       "      <td>NaN</td>\n",
       "    </tr>\n",
       "    <tr>\n",
       "      <th>1</th>\n",
       "      <td>2115</td>\n",
       "      <td>2013-08-01 00:00:01</td>\n",
       "      <td>2013-08-01 00:35:16</td>\n",
       "      <td>254</td>\n",
       "      <td>W 11 St &amp; 6 Ave</td>\n",
       "      <td>40.735324</td>\n",
       "      <td>-73.998004</td>\n",
       "      <td>195</td>\n",
       "      <td>Liberty St &amp; Broadway</td>\n",
       "      <td>40.709056</td>\n",
       "      <td>-74.010434</td>\n",
       "      <td>17095</td>\n",
       "      <td>Subscriber</td>\n",
       "      <td>1974</td>\n",
       "      <td>1</td>\n",
       "      <td>41</td>\n",
       "      <td>NaN</td>\n",
       "    </tr>\n",
       "    <tr>\n",
       "      <th>2</th>\n",
       "      <td>385</td>\n",
       "      <td>2013-08-01 00:00:03</td>\n",
       "      <td>2013-08-01 00:06:28</td>\n",
       "      <td>460</td>\n",
       "      <td>S 4 St &amp; Wythe Ave</td>\n",
       "      <td>40.712859</td>\n",
       "      <td>-73.965903</td>\n",
       "      <td>2002</td>\n",
       "      <td>Wythe Ave &amp; Metropolitan Ave</td>\n",
       "      <td>40.716887</td>\n",
       "      <td>-73.963198</td>\n",
       "      <td>18197</td>\n",
       "      <td>Customer</td>\n",
       "      <td>NaN</td>\n",
       "      <td>0</td>\n",
       "      <td>NaN</td>\n",
       "      <td>NaN</td>\n",
       "    </tr>\n",
       "    <tr>\n",
       "      <th>3</th>\n",
       "      <td>653</td>\n",
       "      <td>2013-08-01 00:00:10</td>\n",
       "      <td>2013-08-01 00:11:03</td>\n",
       "      <td>398</td>\n",
       "      <td>Atlantic Ave &amp; Furman St</td>\n",
       "      <td>40.691652</td>\n",
       "      <td>-73.999979</td>\n",
       "      <td>398</td>\n",
       "      <td>Atlantic Ave &amp; Furman St</td>\n",
       "      <td>40.691652</td>\n",
       "      <td>-73.999979</td>\n",
       "      <td>17080</td>\n",
       "      <td>Customer</td>\n",
       "      <td>NaN</td>\n",
       "      <td>0</td>\n",
       "      <td>NaN</td>\n",
       "      <td>NaN</td>\n",
       "    </tr>\n",
       "    <tr>\n",
       "      <th>4</th>\n",
       "      <td>954</td>\n",
       "      <td>2013-08-01 00:00:11</td>\n",
       "      <td>2013-08-01 00:16:05</td>\n",
       "      <td>319</td>\n",
       "      <td>Park Pl &amp; Church St</td>\n",
       "      <td>40.713361</td>\n",
       "      <td>-74.009376</td>\n",
       "      <td>336</td>\n",
       "      <td>Sullivan St &amp; Washington Sq</td>\n",
       "      <td>40.730477</td>\n",
       "      <td>-73.999061</td>\n",
       "      <td>17967</td>\n",
       "      <td>Customer</td>\n",
       "      <td>NaN</td>\n",
       "      <td>0</td>\n",
       "      <td>NaN</td>\n",
       "      <td>NaN</td>\n",
       "    </tr>\n",
       "  </tbody>\n",
       "</table>\n",
       "</div>"
      ],
      "text/plain": [
       "   tripduration            starttime             stoptime  start station id  \\\n",
       "0           664  2013-08-01 00:00:00  2013-08-01 00:11:04               449   \n",
       "1          2115  2013-08-01 00:00:01  2013-08-01 00:35:16               254   \n",
       "2           385  2013-08-01 00:00:03  2013-08-01 00:06:28               460   \n",
       "3           653  2013-08-01 00:00:10  2013-08-01 00:11:03               398   \n",
       "4           954  2013-08-01 00:00:11  2013-08-01 00:16:05               319   \n",
       "\n",
       "         start station name  start station latitude  start station longitude  \\\n",
       "0           W 52 St & 9 Ave               40.764618               -73.987895   \n",
       "1           W 11 St & 6 Ave               40.735324               -73.998004   \n",
       "2        S 4 St & Wythe Ave               40.712859               -73.965903   \n",
       "3  Atlantic Ave & Furman St               40.691652               -73.999979   \n",
       "4       Park Pl & Church St               40.713361               -74.009376   \n",
       "\n",
       "   end station id              end station name  end station latitude  \\\n",
       "0             479               9 Ave & W 45 St             40.760193   \n",
       "1             195         Liberty St & Broadway             40.709056   \n",
       "2            2002  Wythe Ave & Metropolitan Ave             40.716887   \n",
       "3             398      Atlantic Ave & Furman St             40.691652   \n",
       "4             336   Sullivan St & Washington Sq             40.730477   \n",
       "\n",
       "   end station longitude  bikeid    usertype  birth year  gender  ageM  ageF  \n",
       "0             -73.991255   20068  Subscriber        1944       1    71   NaN  \n",
       "1             -74.010434   17095  Subscriber        1974       1    41   NaN  \n",
       "2             -73.963198   18197    Customer         NaN       0   NaN   NaN  \n",
       "3             -73.999979   17080    Customer         NaN       0   NaN   NaN  \n",
       "4             -73.999061   17967    Customer         NaN       0   NaN   NaN  "
      ]
     },
     "execution_count": 3,
     "metadata": {},
     "output_type": "execute_result"
    }
   ],
   "source": [
    "#df is the dataframe where the content of the csv file is stored\n",
    "df['birth year'] = df['birth year'].convert_objects(convert_numeric=True)\n",
    "df['ageM'] = 2015 - df['birth year'][(df['usertype'] == 'Subscriber') & (df['gender'] == 1)]\n",
    "df['ageF'] = 2015 - df['birth year'][(df['usertype'] == 'Subscriber') & (df['gender'] == 2)]\n",
    "df.head()"
   ]
  },
  {
   "cell_type": "markdown",
   "metadata": {},
   "source": [
    "lets splot age in 10 year bins. the dataset is very large, so i could be split in smaller bins, but I will chose 10 years in the interest of time. if i was to do this \"for real\" the bin size choice should be a balance between properly sample the age space, have enough counts in each bin that the statistical noise is not significant (remember that is > sqrt(N)!) and the computational requirement to computatinal facilities ratio. "
   ]
  },
  {
   "cell_type": "markdown",
   "metadata": {},
   "source": [
    "the next several steps are needed if you want to code up the KS test from scratch. that is for extra credit, so if you do not want to do it you may not need to plot split the distribution in bins and create the cumulative HOWEVER it is a great idea to do it anyways to explore your data viaually! remember Ascombe's quartet!!"
   ]
  },
  {
   "cell_type": "code",
   "execution_count": 4,
   "metadata": {
    "collapsed": false
   },
   "outputs": [
    {
     "data": {
      "text/plain": [
       "<matplotlib.axes._subplots.AxesSubplot at 0x109a54290>"
      ]
     },
     "execution_count": 4,
     "metadata": {},
     "output_type": "execute_result"
    },
    {
     "data": {
      "image/png": "[encoded data removed]",
      "text/plain": [
       "<matplotlib.figure.Figure at 0x109734290>"
      ]
     },
     "metadata": {},
     "output_type": "display_data"
    },
    {
     "data": {
      "image/png": "[encoded data removed]",
      "text/plain": [
       "<matplotlib.figure.Figure at 0x109734310>"
      ]
     },
     "metadata": {},
     "output_type": "display_data"
    }
   ],
   "source": [
    "bins = np.arange(10, 99, 10)\n",
    "df.ageM.groupby(pd.cut(df.ageM, bins)).agg([count_nonzero]).plot(kind='bar')\n",
    "df.ageF.groupby(pd.cut(df.ageF, bins)).agg([count_nonzero]).plot(kind='bar')"
   ]
  },
  {
   "cell_type": "markdown",
   "metadata": {},
   "source": [
    "this is how the cumulative distributions look like.  Notice that i am normalizing them! if i want to reat an observed distribution like a probablility distribution i have to normalize it"
   ]
  },
  {
   "cell_type": "code",
   "execution_count": 5,
   "metadata": {
    "collapsed": false,
    "scrolled": false
   },
   "outputs": [
    {
     "name": "stdout",
     "output_type": "stream",
     "text": [
      "          count_nonzero\n",
      "ageM                   \n",
      "(10, 20]       0.000335\n",
      "(20, 30]       0.063487\n",
      "(30, 40]       0.080185\n",
      "(40, 50]       0.028792\n",
      "(50, 60]       0.014830\n",
      "(60, 70]       0.001981\n",
      "(70, 80]       0.000057\n",
      "(80, 90]       0.000000\n"
     ]
    },
    {
     "data": {
      "text/plain": [
       "<matplotlib.legend.Legend at 0x109734450>"
      ]
     },
     "execution_count": 5,
     "metadata": {},
     "output_type": "execute_result"
    },
    {
     "data": {
      "image/png": "[encoded data removed]",
      "text/plain": [
       "<matplotlib.figure.Figure at 0x1181b1e50>"
      ]
     },
     "metadata": {},
     "output_type": "display_data"
    }
   ],
   "source": [
    "#print df.ageS, df.ageS.cumsum()\n",
    "\n",
    "csM=df.ageM.groupby(pd.cut(df.ageM, bins)).agg([count_nonzero]).cumsum()\n",
    "\n",
    "csF=df.ageF.groupby(pd.cut(df.ageF, bins)).agg([count_nonzero]).cumsum()\n",
    "\n",
    "print np.abs(csM / csM.max()-csF / csF.max())\n",
    "\n",
    "pl.plot(bins[:-1] + 5, csM / csM.max(), label = \"M\")\n",
    "pl.plot(bins[:-1] + 5, csF / csF.max(), label = \"F\")\n",
    "pl.legend()"
   ]
  },
  {
   "cell_type": "markdown",
   "metadata": {},
   "source": [
    "they look pretty darn similar! that sets my expectation for the tests to come. if i wanted to code the KS test by hand i woud have everything i need: the normalized cumulative distributions can be subtracted from each other and the max distance can be seeked. \n",
    "\n",
    "Notice that there amay be Nan values you are gonna have to deal with! you can do that for example with a Boolean statementsuch as  df.ageF[~np.isnan(df.ageF)] or you can use numpy functions that deal with Nan values: nansum, nanmean, nanstd..."
   ]
  },
  {
   "cell_type": "markdown",
   "metadata": {},
   "source": [
    "lets run the scipy KS test"
   ]
  },
  {
   "cell_type": "code",
   "execution_count": 6,
   "metadata": {
    "collapsed": false,
    "scrolled": false
   },
   "outputs": [],
   "source": [
    "import scipy.stats"
   ]
  },
  {
   "cell_type": "markdown",
   "metadata": {
    "collapsed": true
   },
   "source": [
    "#KS tests to compare 2 samples\n",
    "\n",
    "http://docs.scipy.org/doc/scipy-0.15.1/reference/generated/scipy.stats.ks_2samp.html\n"
   ]
  },
  {
   "cell_type": "code",
   "execution_count": 7,
   "metadata": {
    "collapsed": false
   },
   "outputs": [
    {
     "name": "stdout",
     "output_type": "stream",
     "text": [
      "(0.41713724527375395, 0.0)\n"
     ]
    }
   ],
   "source": [
    "ks=scipy.stats.ks_2samp(df.ageM, df.ageF)\n",
    "print ks"
   ]
  },
  {
   "cell_type": "markdown",
   "metadata": {},
   "source": [
    "remember: the Null hypothesis is rejected if \n",
    "\n",
    "$D_KS(n1,n2) > c(\\alpha) \\sqrt{\\frac{(n1+n2)}{n1n2}}$\n",
    "\n",
    "where $c(\\alpha$) is the inverse of the KS distribution, and you do not have to know how to get that cause there are tables that list critical values!! \n",
    "\n",
    "http://www.real-statistics.com/tests-normality-and-symmetry/statistical-tests-normality-symmetry/kolmogorov-smirnov-test/kolmogorov-distribution/\n",
    "\n",
    "but scipy is already giving you the p-value, s you do not have to worry about it i am still giving you the table FWI and if you want to do the coding of the KS test by hand\n"
   ]
  },
  {
   "cell_type": "code",
   "execution_count": 9,
   "metadata": {
    "collapsed": false
   },
   "outputs": [
    {
     "data": {
      "image/png": "[encoded data removed]",
      "text/plain": [
       "<IPython.core.display.Image object>"
      ]
     },
     "execution_count": 9,
     "metadata": {},
     "output_type": "execute_result"
    }
   ],
   "source": [
    "#here is the critical values tablel. Have you chosen your significance level yet?? you should do it first thing!\n",
    "from IPython.display import Image\n",
    "Image(filename=\"ksample.png\")"
   ]
  },
  {
   "cell_type": "code",
   "execution_count": 10,
   "metadata": {
    "collapsed": false
   },
   "outputs": [
    {
     "name": "stdout",
     "output_type": "stream",
     "text": [
      "The total number of sample 1 is: 616902\n",
      "The total number of sample 2 is: 198948\n"
     ]
    }
   ],
   "source": [
    "##this cell is for you to tell me what the scipy KS test returned and what it mean\n",
    "\n",
    "#In the test Kolmogorov Smirnov the hypothesis that we have to Contrast are:\n",
    "# Ho=: The samples are drawn from the same distribution (in the two-sample case) \n",
    "# or that the sample is drawn from the reference distribution (in the one-sample case)\n",
    "# H1=: The samples are not drawn from the same distribution, ...\n",
    "\n",
    "#we have two ways for deciding to reject the null hypothesis \n",
    "#The first way is calculating DkS(n1,n2) and compare it with c(alpha)\n",
    "#We have c(alpha)=c(.05)=1.36\n",
    " \n",
    "n1 = len(df['birth year'][(df['usertype'] == 'Subscriber') & (df['gender'] == 1)])\n",
    "n2 = len(df['birth year'][(df['usertype'] == 'Subscriber') & (df['gender'] == 2)])\n",
    "print \"The total number of sample 1 is: %s\" % (n1)\n",
    "print \"The total number of sample 2 is: %s\" % (n2)\n",
    "\n"
   ]
  },
  {
   "cell_type": "code",
   "execution_count": 11,
   "metadata": {
    "collapsed": false
   },
   "outputs": [
    {
     "name": "stdout",
     "output_type": "stream",
     "text": [
      "The value of c(.05) is: 1.36\n",
      "The value of c_alphan1n2 is: 0.0\n",
      "The value of KS is:\n",
      "(0.41713724527375395, 0.0)\n",
      "0.417137245274\n",
      "P-value is: 0.0\n"
     ]
    }
   ],
   "source": [
    "c_alpha = 1.36\n",
    "c_alphan1n2 = c_alpha * np.sqrt((n1 + n2) / (n1*n2))\n",
    "print \"The value of c(.05) is: %s\" % (c_alpha)\n",
    "print \"The value of c_alphan1n2 is: %s\" % (c_alphan1n2)\n",
    "print \"The value of KS is:\"\n",
    "print ks\n",
    "ks1=ks[0]\n",
    "print ks1\n",
    "pvalue=ks[1]\n",
    "print \"P-value is: %s\" % (pvalue)"
   ]
  },
  {
   "cell_type": "code",
   "execution_count": 15,
   "metadata": {
    "collapsed": false,
    "scrolled": true
   },
   "outputs": [
    {
     "name": "stdout",
     "output_type": "stream",
     "text": [
      "Is the ks value 0.42 greater than the critical value 0.00? \n",
      "YES!\n",
      "Null hypothesis is rejected. The samples are not drawn from the same distribution.\n",
      "1.36\n"
     ]
    }
   ],
   "source": [
    "\n",
    "\n",
    "def Results(ks1,c_alphan1n2):\n",
    "    print 'Is the ks value {0:.2f} greater than the critical value {1:.2f}? '.format(ks1,c_alphan1n2)\n",
    "    if ks1>c_alphan1n2:\n",
    "        print \"YES!\"\n",
    "    else: print \"NO!\"\n",
    "    \n",
    "    print 'Null hypothesis is {}'.format('rejected. The samples are not drawn from the same distribution.' if ks1>c_alphan1n2  else 'not rejected. The samples are drawn from the same distribution.') \n",
    "    \n",
    "Results(ks1,c_alphan1n2)\n",
    "print c_alpha\n"
   ]
  },
  {
   "cell_type": "code",
   "execution_count": 83,
   "metadata": {
    "collapsed": false
   },
   "outputs": [
    {
     "name": "stdout",
     "output_type": "stream",
     "text": [
      "Is the p value 0.00 smaller than the critical value 0.05? \n",
      "YES!\n",
      "Null hypothesis is rejected. The samples are not drawn from the same distribution.\n"
     ]
    }
   ],
   "source": [
    "#The second way is calculating is comparing the P-value with the significance level\n",
    "#If P-value is smaller than the critical value, we reject H0.\n",
    "a=.05\n",
    "def Result(pvalue,a):\n",
    "    print 'Is the p value {0:.2f} smaller than the critical value {1:.2f}? '.format(pvalue,a)\n",
    "    if pvalue<a:\n",
    "        print \"YES!\"\n",
    "    else: print \"NO!\"\n",
    "    \n",
    "    print 'Null hypothesis is {}'.format( 'rejected. The samples are not drawn from the same distribution.' if pvalue<a  else 'not rejected') \n",
    "\n",
    "Result(pvalue,a)\n",
    "\n"
   ]
  },
  {
   "cell_type": "markdown",
   "metadata": {},
   "source": [
    "#Pearson's  test for correlation\n",
    "\n",
    "http://docs.scipy.org/doc/scipy/reference/generated/scipy.stats.pearsonr.html#scipy.stats.pearsonr\n",
    "\n"
   ]
  },
  {
   "cell_type": "code",
   "execution_count": 13,
   "metadata": {
    "collapsed": false
   },
   "outputs": [
    {
     "name": "stdout",
     "output_type": "stream",
     "text": [
      "[ 0.97716477] [  2.92609392e-05]\n"
     ]
    }
   ],
   "source": [
    "#please perform the Pearson's test and tell me what you find\n",
    "dist1 = df.ageM.groupby(pd.cut(df.ageM, bins)).agg([count_nonzero])\n",
    "dist2 = df.ageF.groupby(pd.cut(df.ageF, bins)).agg([count_nonzero])\n",
    "dist1 = dist1.replace(np.NaN, 0)\n",
    "dist2 = dist2.replace(np.NaN, 0)\n",
    "#print type(dist1)\n",
    "m1 = dist1.mean()\n",
    "m2 = dist2.mean()\n",
    "std1 = dist1.std()\n",
    "std2 = dist2.std()\n",
    "norm1 = (dist1 - m1)/std1\n",
    "norm2 = (dist2 - m2)/std2\n",
    "r, pv = scipy.stats.pearsonr(norm1, norm2)\n",
    "print r, pv\n"
   ]
  },
  {
   "cell_type": "markdown",
   "metadata": {},
   "source": [
    "P value is closer to 1 which means that we can reject Ho, and P-value is very low and close to zero, is less than our level of significance 5%. Then we have enough evidence to reject the Null Hypothesis."
   ]
  },
  {
   "cell_type": "markdown",
   "metadata": {},
   "source": [
    "#Spearman's  test for correlation\n",
    "\n",
    "http://docs.scipy.org/doc/scipy/reference/generated/scipy.stats.spearmanr.html#scipy.stats.spearmanr"
   ]
  },
  {
   "cell_type": "code",
   "execution_count": 14,
   "metadata": {
    "collapsed": false
   },
   "outputs": [
    {
     "name": "stdout",
     "output_type": "stream",
     "text": [
      "0.97619047619\n",
      "3.3143960262e-05\n"
     ]
    }
   ],
   "source": [
    "#please perform the Spearman's test and tell me what you find\n",
    "r2,pv2 = scipy.stats.spearmanr(dist1, dist2)\n",
    "print r2\n",
    "print pv2\n",
    "\n"
   ]
  },
  {
   "cell_type": "markdown",
   "metadata": {},
   "source": [
    "Also the Spearman tests shows that P value is closer to 1 which means that we can reject Ho, and P-value is very low and close to zero, is less than our level of significance 5%. Then we have enough evidence to reject the Null Hypothesis."
   ]
  },
  {
   "cell_type": "markdown",
   "metadata": {},
   "source": [
    "##please comment on the numbers that you get in the light of the scipy manual: what is rerutned? what does it mean??"
   ]
  },
  {
   "cell_type": "markdown",
   "metadata": {},
   "source": [
    "##DO THE SAME FOR THE DISTRIBUTION OF RIDERS DURING THE DAY VS DURING THE NIGHT!\n",
    "\n",
    "hint: remember how I converted the starttime last time in my own citibikes notebook into units that are easy to read. \n",
    "df['mystarttime'] = ...\n",
    "then you can use something like\n",
    "df['mystarttime'].dt.hour"
   ]
  },
  {
   "cell_type": "markdown",
   "metadata": {
    "collapsed": false
   },
   "source": [
    "\n",
    "Selecting days and nights"
   ]
  },
  {
   "cell_type": "code",
   "execution_count": 14,
   "metadata": {
    "collapsed": false
   },
   "outputs": [],
   "source": [
    "from datetime import datetime\n",
    "df['date'] = pd.to_datetime(df['starttime'])\n",
    "df['ageN'] = 2014 - df['birth year'][(df['usertype'] == 'Subscriber') & ((df['date'].dt.hour >=18) | (df['date'].dt.hour <6))]\n",
    "df['ageD'] = 2014 - df['birth year'][(df['usertype'] == 'Subscriber') & (df['date'].dt.hour <=18) & (df['date'].dt.hour >6)]\n",
    "\n",
    "\n"
   ]
  },
  {
   "cell_type": "code",
   "execution_count": 14,
   "metadata": {
    "collapsed": false
   },
   "outputs": [
    {
     "data": {
      "text/html": [
       "<div>\n",
       "<table border=\"1\" class=\"dataframe\">\n",
       "  <thead>\n",
       "    <tr style=\"text-align: right;\">\n",
       "      <th></th>\n",
       "      <th>tripduration</th>\n",
       "      <th>starttime</th>\n",
       "      <th>stoptime</th>\n",
       "      <th>start station id</th>\n",
       "      <th>start station name</th>\n",
       "      <th>start station latitude</th>\n",
       "      <th>start station longitude</th>\n",
       "      <th>end station id</th>\n",
       "      <th>end station name</th>\n",
       "      <th>end station latitude</th>\n",
       "      <th>...</th>\n",
       "      <th>gender</th>\n",
       "      <th>sunrise</th>\n",
       "      <th>sunset</th>\n",
       "      <th>day or night</th>\n",
       "      <th>age</th>\n",
       "      <th>ageM</th>\n",
       "      <th>ageF</th>\n",
       "      <th>date</th>\n",
       "      <th>ageN</th>\n",
       "      <th>ageD</th>\n",
       "    </tr>\n",
       "  </thead>\n",
       "  <tbody>\n",
       "    <tr>\n",
       "      <th>0</th>\n",
       "      <td>664</td>\n",
       "      <td>8/1/13 0:00</td>\n",
       "      <td>8/1/13 0:11</td>\n",
       "      <td>449</td>\n",
       "      <td>W 52 St &amp; 9 Ave</td>\n",
       "      <td>40.764618</td>\n",
       "      <td>-73.987895</td>\n",
       "      <td>479</td>\n",
       "      <td>9 Ave &amp; W 45 St</td>\n",
       "      <td>40.760193</td>\n",
       "      <td>...</td>\n",
       "      <td>1</td>\n",
       "      <td>6:07</td>\n",
       "      <td>19:51</td>\n",
       "      <td>night</td>\n",
       "      <td>71</td>\n",
       "      <td>71</td>\n",
       "      <td>NaN</td>\n",
       "      <td>2013-08-01</td>\n",
       "      <td>70</td>\n",
       "      <td>NaN</td>\n",
       "    </tr>\n",
       "    <tr>\n",
       "      <th>1</th>\n",
       "      <td>2115</td>\n",
       "      <td>8/1/13 0:00</td>\n",
       "      <td>8/1/13 0:35</td>\n",
       "      <td>254</td>\n",
       "      <td>W 11 St &amp; 6 Ave</td>\n",
       "      <td>40.735324</td>\n",
       "      <td>-73.998004</td>\n",
       "      <td>195</td>\n",
       "      <td>Liberty St &amp; Broadway</td>\n",
       "      <td>40.709056</td>\n",
       "      <td>...</td>\n",
       "      <td>1</td>\n",
       "      <td>6:07</td>\n",
       "      <td>19:51</td>\n",
       "      <td>night</td>\n",
       "      <td>41</td>\n",
       "      <td>41</td>\n",
       "      <td>NaN</td>\n",
       "      <td>2013-08-01</td>\n",
       "      <td>40</td>\n",
       "      <td>NaN</td>\n",
       "    </tr>\n",
       "    <tr>\n",
       "      <th>2</th>\n",
       "      <td>385</td>\n",
       "      <td>8/1/13 0:00</td>\n",
       "      <td>8/1/13 0:06</td>\n",
       "      <td>460</td>\n",
       "      <td>S 4 St &amp; Wythe Ave</td>\n",
       "      <td>40.712859</td>\n",
       "      <td>-73.965903</td>\n",
       "      <td>2002</td>\n",
       "      <td>Wythe Ave &amp; Metropolitan Ave</td>\n",
       "      <td>40.716887</td>\n",
       "      <td>...</td>\n",
       "      <td>0</td>\n",
       "      <td>6:07</td>\n",
       "      <td>19:51</td>\n",
       "      <td>night</td>\n",
       "      <td>\\N</td>\n",
       "      <td>NaN</td>\n",
       "      <td>NaN</td>\n",
       "      <td>2013-08-01</td>\n",
       "      <td>NaN</td>\n",
       "      <td>NaN</td>\n",
       "    </tr>\n",
       "    <tr>\n",
       "      <th>3</th>\n",
       "      <td>653</td>\n",
       "      <td>8/1/13 0:00</td>\n",
       "      <td>8/1/13 0:11</td>\n",
       "      <td>398</td>\n",
       "      <td>Atlantic Ave &amp; Furman St</td>\n",
       "      <td>40.691652</td>\n",
       "      <td>-73.999979</td>\n",
       "      <td>398</td>\n",
       "      <td>Atlantic Ave &amp; Furman St</td>\n",
       "      <td>40.691652</td>\n",
       "      <td>...</td>\n",
       "      <td>0</td>\n",
       "      <td>6:07</td>\n",
       "      <td>19:51</td>\n",
       "      <td>night</td>\n",
       "      <td>\\N</td>\n",
       "      <td>NaN</td>\n",
       "      <td>NaN</td>\n",
       "      <td>2013-08-01</td>\n",
       "      <td>NaN</td>\n",
       "      <td>NaN</td>\n",
       "    </tr>\n",
       "    <tr>\n",
       "      <th>4</th>\n",
       "      <td>954</td>\n",
       "      <td>8/1/13 0:00</td>\n",
       "      <td>8/1/13 0:16</td>\n",
       "      <td>319</td>\n",
       "      <td>Park Pl &amp; Church St</td>\n",
       "      <td>40.713361</td>\n",
       "      <td>-74.009376</td>\n",
       "      <td>336</td>\n",
       "      <td>Sullivan St &amp; Washington Sq</td>\n",
       "      <td>40.730477</td>\n",
       "      <td>...</td>\n",
       "      <td>0</td>\n",
       "      <td>6:07</td>\n",
       "      <td>19:51</td>\n",
       "      <td>night</td>\n",
       "      <td>\\N</td>\n",
       "      <td>NaN</td>\n",
       "      <td>NaN</td>\n",
       "      <td>2013-08-01</td>\n",
       "      <td>NaN</td>\n",
       "      <td>NaN</td>\n",
       "    </tr>\n",
       "  </tbody>\n",
       "</table>\n",
       "<p>5 rows × 24 columns</p>\n",
       "</div>"
      ],
      "text/plain": [
       "   tripduration    starttime     stoptime  start station id  \\\n",
       "0           664  8/1/13 0:00  8/1/13 0:11               449   \n",
       "1          2115  8/1/13 0:00  8/1/13 0:35               254   \n",
       "2           385  8/1/13 0:00  8/1/13 0:06               460   \n",
       "3           653  8/1/13 0:00  8/1/13 0:11               398   \n",
       "4           954  8/1/13 0:00  8/1/13 0:16               319   \n",
       "\n",
       "         start station name  start station latitude  start station longitude  \\\n",
       "0           W 52 St & 9 Ave               40.764618               -73.987895   \n",
       "1           W 11 St & 6 Ave               40.735324               -73.998004   \n",
       "2        S 4 St & Wythe Ave               40.712859               -73.965903   \n",
       "3  Atlantic Ave & Furman St               40.691652               -73.999979   \n",
       "4       Park Pl & Church St               40.713361               -74.009376   \n",
       "\n",
       "   end station id              end station name  end station latitude  ...   \\\n",
       "0             479               9 Ave & W 45 St             40.760193  ...    \n",
       "1             195         Liberty St & Broadway             40.709056  ...    \n",
       "2            2002  Wythe Ave & Metropolitan Ave             40.716887  ...    \n",
       "3             398      Atlantic Ave & Furman St             40.691652  ...    \n",
       "4             336   Sullivan St & Washington Sq             40.730477  ...    \n",
       "\n",
       "   gender  sunrise sunset  day or night  age ageM ageF       date ageN  ageD  \n",
       "0       1     6:07  19:51         night   71   71  NaN 2013-08-01   70   NaN  \n",
       "1       1     6:07  19:51         night   41   41  NaN 2013-08-01   40   NaN  \n",
       "2       0     6:07  19:51         night   \\N  NaN  NaN 2013-08-01  NaN   NaN  \n",
       "3       0     6:07  19:51         night   \\N  NaN  NaN 2013-08-01  NaN   NaN  \n",
       "4       0     6:07  19:51         night   \\N  NaN  NaN 2013-08-01  NaN   NaN  \n",
       "\n",
       "[5 rows x 24 columns]"
      ]
     },
     "execution_count": 14,
     "metadata": {},
     "output_type": "execute_result"
    }
   ],
   "source": [
    "df.head()"
   ]
  },
  {
   "cell_type": "code",
   "execution_count": 15,
   "metadata": {
    "collapsed": false
   },
   "outputs": [
    {
     "data": {
      "text/plain": [
       "<matplotlib.axes._subplots.AxesSubplot at 0x10a1b3150>"
      ]
     },
     "execution_count": 15,
     "metadata": {},
     "output_type": "execute_result"
    },
    {
     "data": {
      "image/png": "[encoded data removed]",
      "text/plain": [
       "<matplotlib.figure.Figure at 0x10a5f6d90>"
      ]
     },
     "metadata": {},
     "output_type": "display_data"
    },
    {
     "data": {
      "image/png": "[encoded data removed]",
      "text/plain": [
       "<matplotlib.figure.Figure at 0x10a574710>"
      ]
     },
     "metadata": {},
     "output_type": "display_data"
    }
   ],
   "source": [
    "bins2 = np.arange(10, 99, 5)\n",
    "df.ageN.groupby(pd.cut(df.ageN, bins)).agg([count_nonzero]).plot(kind='bar')\n",
    "df.ageD.groupby(pd.cut(df.ageD, bins)).agg([count_nonzero]).plot(kind='bar')"
   ]
  },
  {
   "cell_type": "code",
   "execution_count": 16,
   "metadata": {
    "collapsed": false
   },
   "outputs": [
    {
     "name": "stdout",
     "output_type": "stream",
     "text": [
      "          count_nonzero\n",
      "ageN                   \n",
      "(10, 15]            NaN\n",
      "(15, 20]       0.000363\n",
      "(20, 25]       0.017576\n",
      "(25, 30]       0.067824\n",
      "(30, 35]       0.093961\n",
      "(35, 40]       0.090089\n",
      "(40, 45]       0.071577\n",
      "(45, 50]       0.052219\n",
      "(50, 55]       0.032910\n",
      "(55, 60]       0.015577\n",
      "(60, 65]       0.006211\n",
      "(65, 70]       0.002006\n",
      "(70, 75]       0.000485\n",
      "(75, 80]       0.000073\n",
      "(80, 85]       0.000028\n",
      "(85, 90]       0.000013\n",
      "(90, 95]       0.000000\n"
     ]
    },
    {
     "data": {
      "text/plain": [
       "<matplotlib.legend.Legend at 0x10a165f50>"
      ]
     },
     "execution_count": 16,
     "metadata": {},
     "output_type": "execute_result"
    },
    {
     "data": {
      "image/png": "[encoded data removed]",
      "text/plain": [
       "<matplotlib.figure.Figure at 0x10a049210>"
      ]
     },
     "metadata": {},
     "output_type": "display_data"
    }
   ],
   "source": [
    "csM=df.ageN.groupby(pd.cut(df.ageN, bins)).agg([count_nonzero]).cumsum()\n",
    "\n",
    "csF=df.ageD.groupby(pd.cut(df.ageD, bins)).agg([count_nonzero]).cumsum()\n",
    "\n",
    "print np.abs(csM / csM.max()-csF / csF.max())\n",
    "\n",
    "pl.plot(bins[:-1] + 5, csM / csM.max(), label = \"M\")\n",
    "pl.plot(bins[:-1] + 5, csF / csF.max(), label = \"F\")\n",
    "pl.legend()\n"
   ]
  },
  {
   "cell_type": "code",
   "execution_count": 36,
   "metadata": {
    "collapsed": false
   },
   "outputs": [
    {
     "name": "stdout",
     "output_type": "stream",
     "text": [
      "(0.31590152618017536, 0.0)\n"
     ]
    }
   ],
   "source": [
    "#KSTest\n",
    "ks2=scipy.stats.ks_2samp(df.ageN, df.ageD)\n",
    "print ks2"
   ]
  },
  {
   "cell_type": "markdown",
   "metadata": {},
   "source": [
    "-->Ho can be rejected, The closer this number is to 0 the more likely it is that the two samples were drawn from the same distribution."
   ]
  },
  {
   "cell_type": "code",
   "execution_count": 37,
   "metadata": {
    "collapsed": false
   },
   "outputs": [
    {
     "data": {
      "image/png": "[encoded data removed]",
      "text/plain": [
       "<IPython.core.display.Image object>"
      ]
     },
     "execution_count": 37,
     "metadata": {},
     "output_type": "execute_result"
    }
   ],
   "source": [
    "from IPython.display import Image\n",
    "Image(filename=\"ksample.png\")"
   ]
  },
  {
   "cell_type": "code",
   "execution_count": 40,
   "metadata": {
    "collapsed": false
   },
   "outputs": [
    {
     "name": "stdout",
     "output_type": "stream",
     "text": [
      "[ 0.979935] [  6.42078995e-12]\n"
     ]
    }
   ],
   "source": [
    "#please perform the Pearson's test and tell me what you find\n",
    "dist1 = df.ageN.groupby(pd.cut(df.ageN, bins2)).agg([count_nonzero])\n",
    "dist2 = df.ageD.groupby(pd.cut(df.ageD, bins2)).agg([count_nonzero])\n",
    "dist1 = dist1.replace(np.NaN, 0)\n",
    "dist2 = dist2.replace(np.NaN, 0)\n",
    "m1 = dist1.mean()\n",
    "m2 = dist2.mean()\n",
    "std3 = dist3.std()\n",
    "std4 = dist4.std()\n",
    "norm3 = (dist1 - m1)/std3\n",
    "norm4 = (dist2 - m2)/std4\n",
    "r3, pv3 = scipy.stats.pearsonr(norm3, norm4)\n",
    "print r3, pv3\n"
   ]
  },
  {
   "cell_type": "markdown",
   "metadata": {},
   "source": [
    "P value is closer to 1 which means that we can reject Ho, and P-value is very low and close to zero, is less than our level of significance 5%. Then we have enough evidence to reject the Null Hypothesis."
   ]
  },
  {
   "cell_type": "code",
   "execution_count": 41,
   "metadata": {
    "collapsed": false
   },
   "outputs": [
    {
     "name": "stdout",
     "output_type": "stream",
     "text": [
      "0.990196078431 3.07362545046e-14\n"
     ]
    }
   ],
   "source": [
    "#please perform the Spearman's test and tell me what you find\n",
    "rs, pvs = scipy.stats.spearmanr(dist1,dist2)\n",
    "print rs, pvs"
   ]
  },
  {
   "cell_type": "markdown",
   "metadata": {},
   "source": [
    "Spearman tests shows that P value is closer to 1 which means that we can reject Ho, and P-value is very low and close to zero, is less than our level of significance 5%. Then we have enough evidence to reject the Null Hypothesis."
   ]
  },
  {
   "cell_type": "code",
   "execution_count": 42,
   "metadata": {
    "collapsed": false,
    "scrolled": true
   },
   "outputs": [
    {
     "data": {
      "text/html": [
       "<div>\n",
       "<table border=\"1\" class=\"dataframe\">\n",
       "  <thead>\n",
       "    <tr style=\"text-align: right;\">\n",
       "      <th></th>\n",
       "      <th>tripduration</th>\n",
       "      <th>start station id</th>\n",
       "      <th>start station latitude</th>\n",
       "      <th>start station longitude</th>\n",
       "      <th>end station id</th>\n",
       "      <th>end station latitude</th>\n",
       "      <th>end station longitude</th>\n",
       "      <th>bikeid</th>\n",
       "      <th>birth year</th>\n",
       "      <th>gender</th>\n",
       "      <th>ageM</th>\n",
       "      <th>ageF</th>\n",
       "      <th>ageN</th>\n",
       "      <th>ageD</th>\n",
       "    </tr>\n",
       "  </thead>\n",
       "  <tbody>\n",
       "    <tr>\n",
       "      <th>count</th>\n",
       "      <td>877878.000000</td>\n",
       "      <td>877878.000000</td>\n",
       "      <td>877878.000000</td>\n",
       "      <td>877878.000000</td>\n",
       "      <td>877878.000000</td>\n",
       "      <td>877878.000000</td>\n",
       "      <td>877878.000000</td>\n",
       "      <td>877878.000000</td>\n",
       "      <td>720846.000000</td>\n",
       "      <td>877878.000000</td>\n",
       "      <td>545393.000000</td>\n",
       "      <td>175371.000000</td>\n",
       "      <td>251099.000000</td>\n",
       "      <td>528422.000000</td>\n",
       "    </tr>\n",
       "    <tr>\n",
       "      <th>mean</th>\n",
       "      <td>972.435594</td>\n",
       "      <td>440.795141</td>\n",
       "      <td>40.734086</td>\n",
       "      <td>-73.991229</td>\n",
       "      <td>440.992289</td>\n",
       "      <td>40.733711</td>\n",
       "      <td>-73.991254</td>\n",
       "      <td>17596.653068</td>\n",
       "      <td>1975.724041</td>\n",
       "      <td>1.020801</td>\n",
       "      <td>39.749357</td>\n",
       "      <td>37.803172</td>\n",
       "      <td>36.653834</td>\n",
       "      <td>38.904022</td>\n",
       "    </tr>\n",
       "    <tr>\n",
       "      <th>std</th>\n",
       "      <td>2327.694616</td>\n",
       "      <td>349.566577</td>\n",
       "      <td>0.020262</td>\n",
       "      <td>0.012658</td>\n",
       "      <td>354.240290</td>\n",
       "      <td>0.020350</td>\n",
       "      <td>0.012768</td>\n",
       "      <td>1699.188644</td>\n",
       "      <td>10.740551</td>\n",
       "      <td>0.615061</td>\n",
       "      <td>10.812672</td>\n",
       "      <td>10.369360</td>\n",
       "      <td>10.060052</td>\n",
       "      <td>10.908690</td>\n",
       "    </tr>\n",
       "    <tr>\n",
       "      <th>min</th>\n",
       "      <td>60.000000</td>\n",
       "      <td>72.000000</td>\n",
       "      <td>40.680342</td>\n",
       "      <td>-74.017134</td>\n",
       "      <td>72.000000</td>\n",
       "      <td>40.680342</td>\n",
       "      <td>-74.017134</td>\n",
       "      <td>14529.000000</td>\n",
       "      <td>1899.000000</td>\n",
       "      <td>0.000000</td>\n",
       "      <td>18.000000</td>\n",
       "      <td>18.000000</td>\n",
       "      <td>17.000000</td>\n",
       "      <td>17.000000</td>\n",
       "    </tr>\n",
       "    <tr>\n",
       "      <th>25%</th>\n",
       "      <td>438.000000</td>\n",
       "      <td>304.000000</td>\n",
       "      <td>40.719116</td>\n",
       "      <td>-74.001547</td>\n",
       "      <td>304.000000</td>\n",
       "      <td>40.719105</td>\n",
       "      <td>-74.001547</td>\n",
       "      <td>16125.000000</td>\n",
       "      <td>1969.000000</td>\n",
       "      <td>1.000000</td>\n",
       "      <td>31.000000</td>\n",
       "      <td>30.000000</td>\n",
       "      <td>29.000000</td>\n",
       "      <td>30.000000</td>\n",
       "    </tr>\n",
       "    <tr>\n",
       "      <th>50%</th>\n",
       "      <td>719.000000</td>\n",
       "      <td>402.000000</td>\n",
       "      <td>40.735877</td>\n",
       "      <td>-73.990931</td>\n",
       "      <td>402.000000</td>\n",
       "      <td>40.735354</td>\n",
       "      <td>-73.990931</td>\n",
       "      <td>17588.000000</td>\n",
       "      <td>1978.000000</td>\n",
       "      <td>1.000000</td>\n",
       "      <td>37.000000</td>\n",
       "      <td>35.000000</td>\n",
       "      <td>34.000000</td>\n",
       "      <td>37.000000</td>\n",
       "    </tr>\n",
       "    <tr>\n",
       "      <th>75%</th>\n",
       "      <td>1189.000000</td>\n",
       "      <td>484.000000</td>\n",
       "      <td>40.750200</td>\n",
       "      <td>-73.981948</td>\n",
       "      <td>482.000000</td>\n",
       "      <td>40.750020</td>\n",
       "      <td>-73.981948</td>\n",
       "      <td>19054.000000</td>\n",
       "      <td>1984.000000</td>\n",
       "      <td>1.000000</td>\n",
       "      <td>47.000000</td>\n",
       "      <td>44.000000</td>\n",
       "      <td>43.000000</td>\n",
       "      <td>46.000000</td>\n",
       "    </tr>\n",
       "    <tr>\n",
       "      <th>max</th>\n",
       "      <td>761793.000000</td>\n",
       "      <td>3002.000000</td>\n",
       "      <td>40.770513</td>\n",
       "      <td>-73.950048</td>\n",
       "      <td>3002.000000</td>\n",
       "      <td>40.770513</td>\n",
       "      <td>-73.950048</td>\n",
       "      <td>20664.000000</td>\n",
       "      <td>1997.000000</td>\n",
       "      <td>2.000000</td>\n",
       "      <td>116.000000</td>\n",
       "      <td>116.000000</td>\n",
       "      <td>115.000000</td>\n",
       "      <td>115.000000</td>\n",
       "    </tr>\n",
       "  </tbody>\n",
       "</table>\n",
       "</div>"
      ],
      "text/plain": [
       "        tripduration  start station id  start station latitude  \\\n",
       "count  877878.000000     877878.000000           877878.000000   \n",
       "mean      972.435594        440.795141               40.734086   \n",
       "std      2327.694616        349.566577                0.020262   \n",
       "min        60.000000         72.000000               40.680342   \n",
       "25%       438.000000        304.000000               40.719116   \n",
       "50%       719.000000        402.000000               40.735877   \n",
       "75%      1189.000000        484.000000               40.750200   \n",
       "max    761793.000000       3002.000000               40.770513   \n",
       "\n",
       "       start station longitude  end station id  end station latitude  \\\n",
       "count            877878.000000   877878.000000         877878.000000   \n",
       "mean                -73.991229      440.992289             40.733711   \n",
       "std                   0.012658      354.240290              0.020350   \n",
       "min                 -74.017134       72.000000             40.680342   \n",
       "25%                 -74.001547      304.000000             40.719105   \n",
       "50%                 -73.990931      402.000000             40.735354   \n",
       "75%                 -73.981948      482.000000             40.750020   \n",
       "max                 -73.950048     3002.000000             40.770513   \n",
       "\n",
       "       end station longitude         bikeid     birth year         gender  \\\n",
       "count          877878.000000  877878.000000  720846.000000  877878.000000   \n",
       "mean              -73.991254   17596.653068    1975.724041       1.020801   \n",
       "std                 0.012768    1699.188644      10.740551       0.615061   \n",
       "min               -74.017134   14529.000000    1899.000000       0.000000   \n",
       "25%               -74.001547   16125.000000    1969.000000       1.000000   \n",
       "50%               -73.990931   17588.000000    1978.000000       1.000000   \n",
       "75%               -73.981948   19054.000000    1984.000000       1.000000   \n",
       "max               -73.950048   20664.000000    1997.000000       2.000000   \n",
       "\n",
       "                ageM           ageF           ageN           ageD  \n",
       "count  545393.000000  175371.000000  251099.000000  528422.000000  \n",
       "mean       39.749357      37.803172      36.653834      38.904022  \n",
       "std        10.812672      10.369360      10.060052      10.908690  \n",
       "min        18.000000      18.000000      17.000000      17.000000  \n",
       "25%        31.000000      30.000000      29.000000      30.000000  \n",
       "50%        37.000000      35.000000      34.000000      37.000000  \n",
       "75%        47.000000      44.000000      43.000000      46.000000  \n",
       "max       116.000000     116.000000     115.000000     115.000000  "
      ]
     },
     "execution_count": 42,
     "metadata": {},
     "output_type": "execute_result"
    }
   ],
   "source": [
    "df.describe()"
   ]
  },
  {
   "cell_type": "markdown",
   "metadata": {},
   "source": [
    "<Strong>The mean age for night riders is 37.3 and day riders is 39.7"
   ]
  },
  {
   "cell_type": "code",
   "execution_count": null,
   "metadata": {
    "collapsed": true
   },
   "outputs": [],
   "source": []
  }
 ],
 "metadata": {
  "kernelspec": {
   "display_name": "Python 2",
   "language": "python",
   "name": "python2"
  },
  "language_info": {
   "codemirror_mode": {
    "name": "ipython",
    "version": 2
   },
   "file_extension": ".py",
   "mimetype": "text/x-python",
   "name": "python",
   "nbconvert_exporter": "python",
   "pygments_lexer": "ipython2",
   "version": "2.7.10"
  }
 },
 "nbformat": 4,
 "nbformat_minor": 0
}
