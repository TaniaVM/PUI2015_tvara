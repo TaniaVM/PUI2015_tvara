{
 "cells": [
  {
   "cell_type": "markdown",
   "metadata": {
    "collapsed": true
   },
   "source": [
    "#Assignment 3:\n",
    "    test if the distribution of ages can be modelled by a Gaussian\n",
    "    \n",
    "    1) all riders\n",
    "    \n",
    "    2) summer riders vs winder riders\n",
    "    \n",
    "    use 2 tests, you can use KS, AD, or get creative. use KL or chi2 like you did in Assignment2 or perhaps new ones!\n",
    "    \n",
    "    CHALLANGE! look for a better distribution to fit the data! see notes on how to input a number of different \n",
    "    distributions into the test, not just 'norm' and the few others available by keyword"
   ]
  },
  {
   "cell_type": "markdown",
   "metadata": {},
   "source": [
    "my usual imports and setups"
   ]
  },
  {
   "cell_type": "code",
   "execution_count": 64,
   "metadata": {
    "collapsed": false,
    "scrolled": true
   },
   "outputs": [
    {
     "name": "stdout",
     "output_type": "stream",
     "text": [
      "Populating the interactive namespace from numpy and matplotlib\n"
     ]
    }
   ],
   "source": [
    "import pylab as pl\n",
    "import pandas as pd\n",
    "import numpy as np\n",
    "%pylab inline\n",
    "\n",
    "import os\n",
    "import seaborn as sbn\n",
    "\n",
    "import scipy.stats"
   ]
  },
  {
   "cell_type": "markdown",
   "metadata": {},
   "source": [
    "I need 2 seasons, lets start reading in data from August 2014, and January 2014. \n"
   ]
  },
  {
   "cell_type": "code",
   "execution_count": 65,
   "metadata": {
    "collapsed": false,
    "scrolled": false
   },
   "outputs": [
    {
     "name": "stdout",
     "output_type": "stream",
     "text": [
      "Index([u'tripduration', u'starttime', u'stoptime', u'start station id',\n",
      "       u'start station name', u'start station latitude',\n",
      "       u'start station longitude', u'end station id', u'end station name',\n",
      "       u'end station latitude', u'end station longitude', u'bikeid',\n",
      "       u'usertype', u'birth year', u'gender'],\n",
      "      dtype='object')\n",
      "Index([u'tripduration', u'starttime', u'stoptime', u'start station id',\n",
      "       u'start station name', u'start station latitude',\n",
      "       u'start station longitude', u'end station id', u'end station name',\n",
      "       u'end station latitude', u'end station longitude', u'bikeid',\n",
      "       u'usertype', u'birth year', u'gender'],\n",
      "      dtype='object')\n"
     ]
    }
   ],
   "source": [
    "\n",
    "df_S=pd.read_csv('2013-08 - Citi Bike trip data.csv')\n",
    "print df_S.columns\n",
    "\n",
    "df_W=pd.read_csv('2014-01 - Citi Bike trip data.csv')\n",
    "print df_W.columns\n",
    "\n",
    "\n"
   ]
  },
  {
   "cell_type": "markdown",
   "metadata": {},
   "source": [
    "## get the age like we did before, subscribers only cause otherwise the ages are really sparse anyways\n"
   ]
  },
  {
   "cell_type": "code",
   "execution_count": 66,
   "metadata": {
    "collapsed": false
   },
   "outputs": [],
   "source": [
    "#df is the dataframe where the content of the csv file is stored\n",
    "df_W['birth year'] = df_W['birth year'].convert_objects(convert_numeric=True)\n",
    "df_S['birth year'] = df_S['birth year'].convert_objects(convert_numeric=True)\n",
    "df_W['age'] = 2015-df_W['birth year'][(df_W['usertype'] == 'Subscriber')]\n",
    "df_S['age'] = 2015-df_S['birth year'][(df_S['usertype'] == 'Subscriber')]"
   ]
  },
  {
   "cell_type": "code",
   "execution_count": 67,
   "metadata": {
    "collapsed": false
   },
   "outputs": [],
   "source": [
    "age1=df_W.age.dropna()\n",
    "age2=df_S.age.dropna()\n"
   ]
  },
  {
   "cell_type": "markdown",
   "metadata": {},
   "source": [
    "lets split age in 10 year bins. see the comment in assignment 1 about this"
   ]
  },
  {
   "cell_type": "code",
   "execution_count": 68,
   "metadata": {
    "collapsed": false
   },
   "outputs": [
    {
     "data": {
      "image/png": "[encoded data removed]",
      "text/plain": [
       "<matplotlib.figure.Figure at 0x1257f0e10>"
      ]
     },
     "metadata": {},
     "output_type": "display_data"
    },
    {
     "data": {
      "image/png": "[encoded data removed]",
      "text/plain": [
       "<matplotlib.figure.Figure at 0x10fa0f5d0>"
      ]
     },
     "metadata": {},
     "output_type": "display_data"
    }
   ],
   "source": [
    "bins = np.arange(10, 99, 10)\n",
    "\n",
    "df_W.age.groupby(pd.cut(df_W.age, bins)).agg([count_nonzero]).plot(kind='bar', title=\"Winter\")\n",
    "W_age_dist = df_W.age.groupby(pd.cut(df_W.age, bins)).agg([count_nonzero])\n",
    "df_S.age.groupby(pd.cut(df_S.age, bins)).agg([count_nonzero]).plot(kind='bar', title=\"Summer\")\n",
    "S_age_dist = df_S.age.groupby(pd.cut(df_S.age, bins)).agg([count_nonzero])\n",
    "    "
   ]
  },
  {
   "cell_type": "markdown",
   "metadata": {},
   "source": [
    "how do they look? what should I expect? setting some expectation is useful as a sanity check!"
   ]
  },
  {
   "cell_type": "markdown",
   "metadata": {},
   "source": [
    "They look very similar, exect for the total count"
   ]
  },
  {
   "cell_type": "markdown",
   "metadata": {},
   "source": [
    "lets run the scipy KS test"
   ]
  },
  {
   "cell_type": "markdown",
   "metadata": {
    "collapsed": true
   },
   "source": [
    "#KS testsfor goodness of fit\n",
    "\n",
    "http://docs.scipy.org/doc/scipy/reference/generated/scipy.stats.kstest.html"
   ]
  },
  {
   "cell_type": "code",
   "execution_count": 82,
   "metadata": {
    "collapsed": false
   },
   "outputs": [
    {
     "name": "stdout",
     "output_type": "stream",
     "text": [
      "          count_nonzero\n",
      "age                    \n",
      "(10, 20]           1558\n",
      "(20, 30]          63841\n",
      "(30, 40]          98917\n",
      "(40, 50]          70017\n",
      "(50, 60]          43801\n",
      "(60, 70]          13319\n",
      "(70, 80]           1467\n",
      "(80, 90]             75\n",
      "          count_nonzero\n",
      "age                    \n",
      "(10, 20]           2120\n",
      "(20, 30]         183265\n",
      "(30, 40]         317307\n",
      "(40, 50]         178413\n",
      "(50, 60]          99494\n",
      "(60, 70]          31054\n",
      "(70, 80]           3556\n",
      "(80, 90]            285\n"
     ]
    }
   ],
   "source": [
    "print W_age_dist\n",
    "print S_age_dist\n",
    "\n",
    "age1=W_age_dist.dropna()\n",
    "age2=S_age_dist.dropna()\n",
    "\n"
   ]
  },
  {
   "cell_type": "code",
   "execution_count": 70,
   "metadata": {
    "collapsed": false
   },
   "outputs": [
    {
     "name": "stdout",
     "output_type": "stream",
     "text": [
      "winter, normal fit (1.0, 0.0)\n",
      "summer, normal fit (1.0, 0.0)\n",
      "winter, normal fit (0.99999678205074782, 0.0)\n",
      "summer, normal fit (0.99999899683938209, 0.0)\n"
     ]
    }
   ],
   "source": [
    "#compare to normal\n",
    "\n",
    "ksW=scipy.stats.kstest(age1, 'norm')\n",
    "ksS=scipy.stats.kstest(age2, 'norm')\n",
    "print \"winter, normal fit\", ksW\n",
    "print \"summer, normal fit\", ksS\n",
    "\n",
    "#compare to cauchy \n",
    "\n",
    "ksW=scipy.stats.kstest(age1, 'cauchy')\n",
    "ksS=scipy.stats.kstest(age2, 'cauchy')\n",
    "print \"winter, normal fit\", ksW\n",
    "print \"summer, normal fit\", ksS\n",
    "\n",
    "\n"
   ]
  },
  {
   "cell_type": "markdown",
   "metadata": {},
   "source": [
    "the scipy KS test works with keywords only for scipy.stats distributions \n",
    "that take as a single argument the size of the sample, like norm and cauchy look them up to make sure I am right!\n",
    "if i want to test against a distribution which takes more arguments like Poisson, which in scipy.stats takes the \n",
    "lambda parameter and the size (2 arguments) i can pass the extra arguments in arg, like i do below: "
   ]
  },
  {
   "cell_type": "code",
   "execution_count": 71,
   "metadata": {
    "collapsed": false
   },
   "outputs": [
    {
     "name": "stdout",
     "output_type": "stream",
     "text": [
      "winter, normal fit (1.0, 0.0)\n",
      "summer, normal fit (1.0, 0.0)\n"
     ]
    }
   ],
   "source": [
    "ksW=scipy.stats.kstest(age1, 'gamma', args=(35,)) #que significa el 35\n",
    "ksS=scipy.stats.kstest(age2, 'gamma', args=(35,))\n",
    "\n",
    "print \"winter, normal fit\", ksW\n",
    "print \"summer, normal fit\", ksS"
   ]
  },
  {
   "cell_type": "markdown",
   "metadata": {},
   "source": [
    "or i can create my function separately, then call it: all i need to do is define a function that calls  like i am doing below. the size argument must come first, and the second argument of kstest will no longer be a string, but the function itself (what we would call a \"callable\")"
   ]
  },
  {
   "cell_type": "code",
   "execution_count": 79,
   "metadata": {
    "collapsed": false
   },
   "outputs": [],
   "source": [
    "def mydistribution(size, m0, m1):\n",
    "    #this is a crazy dumb function, but i am trying to make a point here...\n",
    "    return (np.empty_like(size)+1) * m0 **2\n"
   ]
  },
  {
   "cell_type": "code",
   "execution_count": 81,
   "metadata": {
    "collapsed": false
   },
   "outputs": [
    {
     "name": "stdout",
     "output_type": "stream",
     "text": [
      "winter, normal fit (388702300.0, nan)\n",
      "summer, normal fit (121174550.0, nan)\n"
     ]
    }
   ],
   "source": [
    "ksW=scipy.stats.kstest(age1, mydistribution, args=(35,38))\n",
    "ksS=scipy.stats.kstest(age2, mydistribution, args=(35,38))\n",
    "\n",
    "\n",
    "print \"winter, normal fit\", ksW\n",
    "print \"summer, normal fit\", ksS"
   ]
  },
  {
   "cell_type": "markdown",
   "metadata": {},
   "source": [
    "##TODO FOR YOU!\n",
    "\n",
    "-- repeat with the AD test, and/or any other tests you wish\n",
    "\n",
    "-- do you see differences in the sample? significant differences?\n",
    "\n",
    "-- do you dare (and this is indeed optional but could be fun) splitting the samples by up- and down-town?"
   ]
  },
  {
   "cell_type": "code",
   "execution_count": 13,
   "metadata": {
    "collapsed": false
   },
   "outputs": [
    {
     "name": "stdout",
     "output_type": "stream",
     "text": [
      "[[  1.55800000e+03   1.42540000e+04   4.95870000e+04   5.64050000e+04\n",
      "    4.25120000e+04   3.78460000e+04   3.21710000e+04   2.63320000e+04\n",
      "    1.74690000e+04   9.46500000e+03   3.85400000e+03   1.26600000e+03\n",
      "    2.01000000e+02   6.10000000e+01   1.40000000e+01   2.10000000e+01]]\n"
     ]
    }
   ],
   "source": [
    "print age1.values.transpose()"
   ]
  },
  {
   "cell_type": "code",
   "execution_count": 14,
   "metadata": {
    "collapsed": false
   },
   "outputs": [
    {
     "name": "stdout",
     "output_type": "stream",
     "text": [
      "winter, normal fit (0.89715770426299457, array([ 0.5  ,  0.569,  0.683,  0.797,  0.948]), array([ 15. ,  10. ,   5. ,   2.5,   1. ]))\n",
      "summer, normal fit (1.0871766820618589, array([ 0.5  ,  0.569,  0.683,  0.797,  0.948]), array([ 15. ,  10. ,   5. ,   2.5,   1. ]))\n"
     ]
    }
   ],
   "source": [
    "\n",
    "age_sum = age2.as_matrix()[:,0]\n",
    "age_win = age1.as_matrix()[:,0]\n",
    "\n",
    "ADS = scipy.stats.anderson(age_sum, dist='norm')\n",
    "ADW = scipy.stats.anderson(age_win, dist='norm')\n",
    "\n",
    "print \"winter, normal fit\", ADW\n",
    "print \"summer, normal fit\", ADS\n",
    "\n"
   ]
  },
  {
   "cell_type": "code",
   "execution_count": null,
   "metadata": {
    "collapsed": true
   },
   "outputs": [],
   "source": [
    "#Winter: If we compare 5% of significance we have to compare .683 with .89,  .89 is higher, \n",
    "#then we reject the null hypothesis, so there is no fit.\n",
    "#The same happened with the data of summer 1.087176>.683\n"
   ]
  },
  {
   "cell_type": "code",
   "execution_count": null,
   "metadata": {
    "collapsed": true
   },
   "outputs": [],
   "source": []
  }
 ],
 "metadata": {
  "kernelspec": {
   "display_name": "Python 2",
   "language": "python",
   "name": "python2"
  },
  "language_info": {
   "codemirror_mode": {
    "name": "ipython",
    "version": 2
   },
   "file_extension": ".py",
   "mimetype": "text/x-python",
   "name": "python",
   "nbconvert_exporter": "python",
   "pygments_lexer": "ipython2",
   "version": "2.7.10"
  }
 },
 "nbformat": 4,
 "nbformat_minor": 0
}
